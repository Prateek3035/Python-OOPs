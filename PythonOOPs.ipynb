{
  "nbformat": 4,
  "nbformat_minor": 0,
  "metadata": {
    "colab": {
      "provenance": []
    },
    "kernelspec": {
      "name": "python3",
      "display_name": "Python 3"
    },
    "language_info": {
      "name": "python"
    }
  },
  "cells": [
    {
      "cell_type": "markdown",
      "source": [
        "#THEORY QUESTIONS\n"
      ],
      "metadata": {
        "id": "x8iObnKEvOTF"
      }
    },
    {
      "cell_type": "markdown",
      "source": [
        "1. What is Object-Oriented Programming (OOP)?\n",
        "   - OOP is a programming paradigm based on the concept of \"objects\" that bundle data (attributes) and code (methods) together. It emphasizes modularity, reusability, and the modeling of real-world entities.\n",
        "\n",
        "2. What is a class in OOP?\n",
        "   - A class is a blueprint for creating objects. It defines the structure and behavior (data and methods) that the objects created from it will have.\n",
        "\n",
        "3. What is an object in OOP?\n",
        "   - An object is an instance of a class that contains actual data and can use the class's methods. It represents a specific realization of the class.\n",
        "\n",
        "4. What is the difference between abstraction and encapsulation?\n",
        "   - Abstraction hides implementation details and shows only essential features, while encapsulation restricts direct access to data by wrapping it with methods, promoting data protection.\n",
        "\n",
        "5. What are dunder methods in Python?\n",
        "   - Dunder methods (like __init__, __str__) are special methods with double underscores used to customize object behavior, such as initialization, representation, or operator overloading.\n",
        "\n",
        "6. Explain the concept of inheritance in OOP?\n",
        "   - Inheritance allows a class (child) to acquire properties and behaviors (methods) from another class (parent), enabling code reuse and hierarchical relationships.\n",
        "\n",
        "7. What is polymorphism in OOP?\n",
        "   - Polymorphism lets objects of different classes be treated as objects of a common superclass, typically by overriding methods to perform class-specific behavior.\n",
        "\n",
        "8. How is encapsulation achieved in Python?\n",
        "   - Encapsulation in Python is done by using private (_ or __) attributes and providing getter/setter methods or @property to control access.\n",
        "\n",
        "9. What is a constructor in Python?\n",
        "   - A constructor in Python is the __init__ method that initializes a new object with default or user-defined values when it is created.\n",
        "\n",
        "10. What are class and static methods in Python?\n",
        "   - Class methods use @classmethod and access class-level data, while static methods use @staticmethod and don't access class or instance data; they behave like regular functions inside a class.\n",
        "\n",
        "11. What is method overloading in Python?\n",
        "   - Python doesn't support traditional method overloading; instead, it uses default arguments or *args and **args to handle different numbers of arguments.\n",
        "\n",
        "12. What is method overriding in OOP?\n",
        "   - Method overriding occurs when a child class defines a method with the same name and parameters as one in its parent class, replacing its behavior.\n",
        "\n",
        "13. What is a property decorator in Python?\n",
        "   - The @property decorator allows a method to be accessed like an attribute, enabling controlled access to instance variables in a readable way.\n",
        "\n",
        "14. Why is polymorphism important in OOP?\n",
        "   - Polymorphism is important because it enables flexibility and scalability by allowing one interface to be used with different underlying forms (classes).\n",
        "\n",
        "15. What is an abstract class in Python?\n",
        "   - An abstract class is a class that cannot be instantiated and may contain abstract methods (declared using @abstractmethod) that must be implemented by subclasses.\n",
        "\n",
        "16. What are the advantages of OOP?\n",
        "   - OOP offers modularity, code reusability, scalability, easy maintenance, and the ability to model complex systems using inheritance and polymorphism.\n",
        "\n",
        "17. What is the difference between a class variable and an instance variable?\n",
        "   - A class variable is shared among all instances of a class, while an instance variable is unique to each object and defined in the __init__ method.\n",
        "\n",
        "18. What is multiple inheritance in Python?\n",
        "   - Multiple inheritance allows a class to inherit from more than one parent class, combining their behaviors and attributes, but it can lead to method resolution conflicts.\n",
        "\n",
        "19. Explain the purpose of \"__str__' and '__repr__\" methods in Python?\n",
        "   - __str__ returns a user-friendly string for print(), while __repr__ returns a developer-oriented string useful for debugging and ideally recreating the object.\n",
        "\n",
        "20. What is the significance of the 'super()' function in Python?\n",
        "   - super() is used to call methods from a parent class, especially in constructors and method overriding, ensuring proper method resolution in inheritance.\n",
        "\n",
        "21. What is the significance of the __del__ method in Python?\n",
        "   - __del__ is a destructor method called when an object is about to be destroyed, often used to release resources like files or network connections.\n",
        "\n",
        "22. What is the difference between @staticmethod and @classmethod in Python?\n",
        "   - @staticmethod doesn’t take any implicit first argument, while @classmethod takes cls as the first argument and can modify class state or create new instances.\n",
        "\n",
        "23. How does polymorphism work in Python with inheritance?\n",
        "   - Polymorphism with inheritance allows child classes to override methods of parent classes, enabling the same method call to behave differently based on the object's class.\n",
        "\n",
        "24. What is method chaining in Python OOP?\n",
        "   - Method chaining involves calling multiple methods on an object in a single line by returning self from each method, allowing a fluent coding style.\n",
        "\n",
        "25. What is the purpose of the __call__ method in Python?\n",
        "   - The __call__ method allows an object to be called like a function, enabling instances of classes to behave like callable functions.\n"
      ],
      "metadata": {
        "id": "zs0Ojcn_vVqD"
      }
    },
    {
      "cell_type": "markdown",
      "source": [
        "#PRACTICAL QUESTIONS"
      ],
      "metadata": {
        "id": "O2jNw3o-zLGG"
      }
    },
    {
      "cell_type": "code",
      "execution_count": 1,
      "metadata": {
        "colab": {
          "base_uri": "https://localhost:8080/"
        },
        "id": "mRqTlWWHu5Bi",
        "outputId": "e8de2afd-97e4-457c-d736-40a16f694a87"
      },
      "outputs": [
        {
          "output_type": "stream",
          "name": "stdout",
          "text": [
            "The animal makes a sound.\n",
            "Bark!\n"
          ]
        }
      ],
      "source": [
        "# 1.Create a parent class Animal with a method speak() that prints a generic message. Create a child class Dog that overrides the speak() method to print \"Bark!\".\n",
        "\n",
        "class Animal:\n",
        "    def speak(self):\n",
        "        print(\"The animal makes a sound.\")\n",
        "\n",
        "class Dog(Animal):\n",
        "    def speak(self):\n",
        "        print(\"Bark!\")\n",
        "\n",
        "# Example usage\n",
        "a = Animal()\n",
        "a.speak()\n",
        "d = Dog()\n",
        "d.speak()"
      ]
    },
    {
      "cell_type": "code",
      "source": [
        "# 2.Write a program to create an abstract class Shape with a method area(). Derive classes Circle and Rectangle from it and implement the area() method in both.\n",
        "\n",
        "from abc import ABC, abstractmethod\n",
        "\n",
        "class Shape(ABC):\n",
        "    @abstractmethod\n",
        "    def area(self):\n",
        "        pass\n",
        "\n",
        "class Circle(Shape):\n",
        "    def __init__(self, radius):\n",
        "        self.radius = radius\n",
        "\n",
        "    def area(self):\n",
        "        return 3.14 * self.radius * self.radius\n",
        "\n",
        "class Rectangle(Shape):\n",
        "    def __init__(self, width, height):\n",
        "        self.width = width\n",
        "        self.height = height\n",
        "\n",
        "    def area(self):\n",
        "        return self.width * self.height\n",
        "\n",
        "# Example usage\n",
        "c = Circle(3)\n",
        "print(\"Circle area:\", c.area())  # Output: Circle area: 28.26\n",
        "\n",
        "r = Rectangle(4, 5)\n",
        "print(\"Rectangle area:\", r.area())  # Output: Rectangle area: 20\n"
      ],
      "metadata": {
        "colab": {
          "base_uri": "https://localhost:8080/"
        },
        "id": "pUeapCpr085O",
        "outputId": "7ca2481a-c4d4-4945-ae6f-536798637c57"
      },
      "execution_count": 3,
      "outputs": [
        {
          "output_type": "stream",
          "name": "stdout",
          "text": [
            "Circle area: 28.259999999999998\n",
            "Rectangle area: 20\n"
          ]
        }
      ]
    },
    {
      "cell_type": "code",
      "source": [
        "# 3. Implement a multi-level inheritance scenario where a class Vehicle has an attribute type. Derive a class Car and further derive a class ElectricCar that adds a battery attribute.\n",
        "\n",
        "# Base class\n",
        "class Vehicle:\n",
        "    def __init__(self, vehicle_type):\n",
        "        self.vehicle_type = vehicle_type\n",
        "\n",
        "# Derived class\n",
        "class Car(Vehicle):\n",
        "    def __init__(self, vehicle_type, brand):\n",
        "        super().__init__(vehicle_type)\n",
        "        self.brand = brand\n",
        "\n",
        "# Further derived class\n",
        "class ElectricCar(Car):\n",
        "    def __init__(self, vehicle_type, brand, battery):\n",
        "        super().__init__(vehicle_type, brand)\n",
        "        self.battery = battery\n",
        "\n",
        "# Example usage\n",
        "e_car = ElectricCar(\"Four Wheeler\", \"Tesla\", \"75 kWh\")\n",
        "print(\"Type:\", e_car.vehicle_type)\n",
        "print(\"Brand:\", e_car.brand)\n",
        "print(\"Battery:\", e_car.battery)\n"
      ],
      "metadata": {
        "colab": {
          "base_uri": "https://localhost:8080/"
        },
        "id": "hLHIH0cD081v",
        "outputId": "54f9c354-3c35-44fa-a766-5f47a98d098c"
      },
      "execution_count": 4,
      "outputs": [
        {
          "output_type": "stream",
          "name": "stdout",
          "text": [
            "Type: Four Wheeler\n",
            "Brand: Tesla\n",
            "Battery: 75 kWh\n"
          ]
        }
      ]
    },
    {
      "cell_type": "code",
      "source": [
        "# 4. Demonstrate polymorphism by creating a base class Bird with a method fly(). Create two derived classes Sparrow and Penguin that override the fly() method.\n",
        "\n",
        "\n",
        "# Base class\n",
        "class Bird:\n",
        "    def fly(self):\n",
        "        print(\"Some birds can fly.\")\n",
        "\n",
        "# Derived class\n",
        "class Sparrow(Bird):\n",
        "    def fly(self):\n",
        "        print(\"Sparrow flies high in the sky.\")\n",
        "\n",
        "# Derived class\n",
        "class Penguin(Bird):\n",
        "    def fly(self):\n",
        "        print(\"Penguins cannot fly.\")\n",
        "\n",
        "# Example usage\n",
        "birds = [Sparrow(), Penguin()]\n",
        "\n",
        "for bird in birds:\n",
        "    bird.fly()\n"
      ],
      "metadata": {
        "colab": {
          "base_uri": "https://localhost:8080/"
        },
        "id": "2wLLhqDD08yh",
        "outputId": "afc8b19a-ad75-4562-8972-53659850a9b6"
      },
      "execution_count": 5,
      "outputs": [
        {
          "output_type": "stream",
          "name": "stdout",
          "text": [
            "Sparrow flies high in the sky.\n",
            "Penguins cannot fly.\n"
          ]
        }
      ]
    },
    {
      "cell_type": "code",
      "source": [
        "# 5.Write a program to demonstrate encapsulation by creating a class BankAccount with private attributes balance and methods to deposit, withdraw, and check balance.\n",
        "\n",
        "class BankAccount:\n",
        "    def __init__(self, initial_balance=0):\n",
        "        self.__balance = initial_balance  # Private attribute\n",
        "\n",
        "    def deposit(self, amount):\n",
        "        if amount > 0:\n",
        "            self.__balance += amount\n",
        "            print(f\"Deposited: {amount}\")\n",
        "        else:\n",
        "            print(\"Invalid deposit amount.\")\n",
        "\n",
        "    def withdraw(self, amount):\n",
        "        if 0 < amount <= self.__balance:\n",
        "            self.__balance -= amount\n",
        "            print(f\"Withdrawn: {amount}\")\n",
        "        else:\n",
        "            print(\"Insufficient balance or invalid amount.\")\n",
        "\n",
        "    def check_balance(self):\n",
        "        print(f\"Current Balance: {self.__balance}\")\n",
        "\n",
        "# Example usage\n",
        "acc = BankAccount(100)\n",
        "acc.deposit(50)\n",
        "acc.withdraw(30)\n",
        "acc.check_balance()\n",
        "\n"
      ],
      "metadata": {
        "colab": {
          "base_uri": "https://localhost:8080/"
        },
        "id": "NDOs0td_08wH",
        "outputId": "9a4ca4a4-c53c-4b52-d499-8e2db202df43"
      },
      "execution_count": 6,
      "outputs": [
        {
          "output_type": "stream",
          "name": "stdout",
          "text": [
            "Deposited: 50\n",
            "Withdrawn: 30\n",
            "Current Balance: 120\n"
          ]
        }
      ]
    },
    {
      "cell_type": "code",
      "source": [
        "# 6. Demonstrate runtime polymorphism using a method play() in a base class Instrument. Derive classes Guitar and Piano that implement their own version of play().\n",
        "\n",
        "# Base class\n",
        "class Instrument:\n",
        "    def play(self):\n",
        "        print(\"Playing an instrument.\")\n",
        "\n",
        "# Derived class\n",
        "class Guitar(Instrument):\n",
        "    def play(self):\n",
        "        print(\"Strumming the guitar.\")\n",
        "\n",
        "# Derived class\n",
        "class Piano(Instrument):\n",
        "    def play(self):\n",
        "        print(\"Playing the piano.\")\n",
        "\n",
        "# Example usage\n",
        "instruments = [Guitar(), Piano()]\n",
        "\n",
        "for instrument in instruments:\n",
        "    instrument.play()\n"
      ],
      "metadata": {
        "colab": {
          "base_uri": "https://localhost:8080/"
        },
        "id": "K2zjnnSG08to",
        "outputId": "544019d6-ed71-4e70-c304-4b76e40a44a2"
      },
      "execution_count": 7,
      "outputs": [
        {
          "output_type": "stream",
          "name": "stdout",
          "text": [
            "Strumming the guitar.\n",
            "Playing the piano.\n"
          ]
        }
      ]
    },
    {
      "cell_type": "code",
      "source": [
        "# 7.Create a class MathOperations with a class method add_numbers() to add two numbers and a static method subtract_numbers() to subtract two numbers.\n",
        "\n",
        "class MathOperations:\n",
        "    @classmethod\n",
        "    def add_numbers(cls, a, b):\n",
        "        return a + b\n",
        "\n",
        "    @staticmethod\n",
        "    def subtract_numbers(a, b):\n",
        "        return a - b\n",
        "\n",
        "# Example usage\n",
        "print(\"Addition:\", MathOperations.add_numbers(10, 5))      # Output: Addition: 15\n",
        "print(\"Subtraction:\", MathOperations.subtract_numbers(10, 5))  # Output: Subtraction: 5\n"
      ],
      "metadata": {
        "colab": {
          "base_uri": "https://localhost:8080/"
        },
        "id": "Ux-_nOqg08rE",
        "outputId": "84bfaeb0-19e9-45ee-feee-17dc317fbe21"
      },
      "execution_count": 8,
      "outputs": [
        {
          "output_type": "stream",
          "name": "stdout",
          "text": [
            "Addition: 15\n",
            "Subtraction: 5\n"
          ]
        }
      ]
    },
    {
      "cell_type": "code",
      "source": [
        "# 8. Implement a class Person with a class method to count the total number of persons created.\n",
        "\n",
        "\n",
        "class Person:\n",
        "    total_persons = 0\n",
        "\n",
        "    def __init__(self, name):\n",
        "        self.name = name\n",
        "        Person.total_persons += 1\n",
        "\n",
        "    @classmethod\n",
        "    def get_total_persons(cls):\n",
        "        return cls.total_persons\n",
        "\n",
        "# Example usage\n",
        "p1 = Person(\"Alice\")\n",
        "p2 = Person(\"Bob\")\n",
        "p3 = Person(\"Charlie\")\n",
        "\n",
        "print(\"Total persons created:\", Person.get_total_persons())"
      ],
      "metadata": {
        "colab": {
          "base_uri": "https://localhost:8080/"
        },
        "id": "OO_3q5V108or",
        "outputId": "b1d2e2cc-3bb4-418c-c6fc-03ec7c320bff"
      },
      "execution_count": 9,
      "outputs": [
        {
          "output_type": "stream",
          "name": "stdout",
          "text": [
            "Total persons created: 3\n"
          ]
        }
      ]
    },
    {
      "cell_type": "code",
      "source": [
        "# 9. Write a class Fraction with attributes numerator and denominator. Override the str method to display the fraction as \"numerator/denominator\".\n",
        "\n",
        "class Fraction:\n",
        "    def __init__(self, numerator, denominator):\n",
        "        self.numerator = numerator\n",
        "        self.denominator = denominator\n",
        "\n",
        "    def __str__(self):\n",
        "        return f\"{self.numerator}/{self.denominator}\"\n",
        "\n",
        "# Example usage\n",
        "fraction = Fraction(3, 4)\n",
        "print(fraction)"
      ],
      "metadata": {
        "colab": {
          "base_uri": "https://localhost:8080/"
        },
        "id": "zXib3M4n08l4",
        "outputId": "51dfff71-e58a-456f-95ee-ca2503a62954"
      },
      "execution_count": 10,
      "outputs": [
        {
          "output_type": "stream",
          "name": "stdout",
          "text": [
            "3/4\n"
          ]
        }
      ]
    },
    {
      "cell_type": "code",
      "source": [
        "# 10. Demonstrate operator overloading by creating a class Vector and overriding the add method to add two vectors.\n",
        "\n",
        "class Vector:\n",
        "    def __init__(self, x, y):\n",
        "        self.x = x\n",
        "        self.y = y\n",
        "\n",
        "    # Overloading the '+' operator to add two vectors\n",
        "    def __add__(self, other):\n",
        "        return Vector(self.x + other.x, self.y + other.y)\n",
        "\n",
        "    def __str__(self):\n",
        "        return f\"({self.x}, {self.y})\"\n",
        "\n",
        "# Example usage\n",
        "v1 = Vector(1, 2)\n",
        "v2 = Vector(3, 4)\n",
        "\n",
        "result = v1 + v2\n",
        "print(result)"
      ],
      "metadata": {
        "colab": {
          "base_uri": "https://localhost:8080/"
        },
        "id": "I8Uy6sNI08jP",
        "outputId": "ae85d4be-70e4-48ee-89ad-02c2869be5f8"
      },
      "execution_count": 11,
      "outputs": [
        {
          "output_type": "stream",
          "name": "stdout",
          "text": [
            "(4, 6)\n"
          ]
        }
      ]
    },
    {
      "cell_type": "code",
      "source": [
        "# 11. Create a class Person with attributes name and age. Add a method greet() that prints \"Hello, my name is {name} and I am {age} years old.\"\n",
        "\n",
        "class Person:\n",
        "    def __init__(self, name, age):\n",
        "        self.name = name\n",
        "        self.age = age\n",
        "\n",
        "    def greet(self):\n",
        "        print(f\"Hello, my name is {self.name} and I am {self.age} years old.\")\n",
        "\n",
        "# Example usage\n",
        "person = Person(\"Alice\", 30)\n",
        "person.greet()"
      ],
      "metadata": {
        "colab": {
          "base_uri": "https://localhost:8080/"
        },
        "id": "DWbxoy8508gh",
        "outputId": "26823047-1f82-4059-a897-d7f0a674172b"
      },
      "execution_count": 12,
      "outputs": [
        {
          "output_type": "stream",
          "name": "stdout",
          "text": [
            "Hello, my name is Alice and I am 30 years old.\n"
          ]
        }
      ]
    },
    {
      "cell_type": "code",
      "source": [
        "# 12.  Implement a class Student with attributes name and grades. Create a method average_grade() to compute the average of the grades.\n",
        "\n",
        "class Student:\n",
        "    def __init__(self, name, grades):\n",
        "        self.name = name\n",
        "        self.grades = grades\n",
        "\n",
        "    def average_grade(self):\n",
        "        return sum(self.grades) / len(self.grades) if self.grades else 0\n",
        "\n",
        "# Example usage\n",
        "student = Student(\"John\", [85, 90, 78, 92, 88])\n",
        "print(f\"Average grade of {student.name}: {student.average_grade():.2f}\")"
      ],
      "metadata": {
        "colab": {
          "base_uri": "https://localhost:8080/"
        },
        "id": "Jv1SEF_e08dx",
        "outputId": "9130a497-e081-4418-8346-4a4a29dbec09"
      },
      "execution_count": 13,
      "outputs": [
        {
          "output_type": "stream",
          "name": "stdout",
          "text": [
            "Average grade of John: 86.60\n"
          ]
        }
      ]
    },
    {
      "cell_type": "code",
      "source": [
        "# 13.  Create a class Rectangle with methods set_dimensions() to set the dimensions and area() to calculate the area.\n",
        "\n",
        "class Rectangle:\n",
        "    def __init__(self):\n",
        "        self.length = 0\n",
        "        self.width = 0\n",
        "\n",
        "    def set_dimensions(self, length, width):\n",
        "        self.length = length\n",
        "        self.width = width\n",
        "\n",
        "    def area(self):\n",
        "        return self.length * self.width\n",
        "\n",
        "# Example usage\n",
        "rect = Rectangle()\n",
        "rect.set_dimensions(5, 3)\n",
        "print(f\"Area of the rectangle: {rect.area()}\")"
      ],
      "metadata": {
        "colab": {
          "base_uri": "https://localhost:8080/"
        },
        "id": "i5wyDjNS08ZZ",
        "outputId": "c1986d58-7e6d-4360-c856-597a5632ff0d"
      },
      "execution_count": 14,
      "outputs": [
        {
          "output_type": "stream",
          "name": "stdout",
          "text": [
            "Area of the rectangle: 15\n"
          ]
        }
      ]
    },
    {
      "cell_type": "code",
      "source": [
        "# 14. Create a class Employee with a method calculate_salary() that computes the salary based on hours worked and hourly rate. Create a derived class Manager that adds a bonus to the salary.\n",
        "\n",
        "class Employee:\n",
        "    def __init__(self, name, hours_worked, hourly_rate):\n",
        "        self.name = name\n",
        "        self.hours_worked = hours_worked\n",
        "        self.hourly_rate = hourly_rate\n",
        "\n",
        "    def calculate_salary(self):\n",
        "        return self.hours_worked * self.hourly_rate\n",
        "\n",
        "# Derived class\n",
        "class Manager(Employee):\n",
        "    def __init__(self, name, hours_worked, hourly_rate, bonus):\n",
        "        super().__init__(name, hours_worked, hourly_rate)\n",
        "        self.bonus = bonus\n",
        "\n",
        "    def calculate_salary(self):\n",
        "        base_salary = super().calculate_salary()\n",
        "        return base_salary + self.bonus\n",
        "\n",
        "# Example usage\n",
        "employee = Employee(\"John\", 40, 20)\n",
        "manager = Manager(\"Alice\", 40, 30, 500)\n",
        "\n",
        "print(f\"Employee Salary: {employee.calculate_salary()}\")\n",
        "print(f\"Manager Salary: {manager.calculate_salary()}\")"
      ],
      "metadata": {
        "colab": {
          "base_uri": "https://localhost:8080/"
        },
        "id": "dElW8YkJ08Wf",
        "outputId": "63c7d9ec-91f6-492b-ca5e-4ac58882012f"
      },
      "execution_count": 15,
      "outputs": [
        {
          "output_type": "stream",
          "name": "stdout",
          "text": [
            "Employee Salary: 800\n",
            "Manager Salary: 1700\n"
          ]
        }
      ]
    },
    {
      "cell_type": "code",
      "source": [
        "# 15. Create a class Product with attributes name, price, and quantity. Implement a method total_price() that calculates the total price of the product.\n",
        "\n",
        "class Product:\n",
        "    def __init__(self, name, price, quantity):\n",
        "        self.name = name\n",
        "        self.price = price\n",
        "        self.quantity = quantity\n",
        "\n",
        "    def total_price(self):\n",
        "        return self.price * self.quantity\n",
        "\n",
        "# Example usage\n",
        "product = Product(\"Laptop\", 1000, 3)\n",
        "print(f\"Total price of {product.name}: ${product.total_price()}\")\n"
      ],
      "metadata": {
        "colab": {
          "base_uri": "https://localhost:8080/"
        },
        "id": "eHyGwlmx08Tc",
        "outputId": "63c25798-f0f0-472d-9028-12dc41a2d96f"
      },
      "execution_count": 16,
      "outputs": [
        {
          "output_type": "stream",
          "name": "stdout",
          "text": [
            "Total price of Laptop: $3000\n"
          ]
        }
      ]
    },
    {
      "cell_type": "code",
      "source": [
        "# 16. Create a class Animal with an abstract method sound(). Create two derived classes Cow and Sheep that implement the sound() method.\n",
        "\n",
        "from abc import ABC, abstractmethod\n",
        "\n",
        "# Abstract base class\n",
        "class Animal(ABC):\n",
        "    @abstractmethod\n",
        "    def sound(self):\n",
        "        pass\n",
        "\n",
        "# Derived class Cow\n",
        "class Cow(Animal):\n",
        "    def sound(self):\n",
        "        print(\"Moo\")\n",
        "\n",
        "# Derived class Sheep\n",
        "class Sheep(Animal):\n",
        "    def sound(self):\n",
        "        print(\"Baa\")\n",
        "\n",
        "# Example usage\n",
        "cow = Cow()\n",
        "cow.sound()\n",
        "\n",
        "sheep = Sheep()\n",
        "sheep.sound()\n"
      ],
      "metadata": {
        "colab": {
          "base_uri": "https://localhost:8080/"
        },
        "id": "FZANI1HJ08Qe",
        "outputId": "2e715043-be44-4faa-b21d-7e736e2ac03f"
      },
      "execution_count": 17,
      "outputs": [
        {
          "output_type": "stream",
          "name": "stdout",
          "text": [
            "Moo\n",
            "Baa\n"
          ]
        }
      ]
    },
    {
      "cell_type": "code",
      "source": [
        "# 17.Create a class Book with attributes title, author, and year_published. Add a method get_book_info() that returns a formatted string with the book's details.\n",
        "\n",
        "class Book:\n",
        "    def __init__(self, title, author, year_published):\n",
        "        self.title = title\n",
        "        self.author = author\n",
        "        self.year_published = year_published\n",
        "\n",
        "    def get_book_info(self):\n",
        "        return f\"Title: {self.title}\\nAuthor: {self.author}\\nYear Published: {self.year_published}\"\n",
        "\n",
        "# Example usage\n",
        "book = Book(\"1984\", \"George Orwell\", 1949)\n",
        "print(book.get_book_info())\n",
        "\n"
      ],
      "metadata": {
        "colab": {
          "base_uri": "https://localhost:8080/"
        },
        "id": "twiMy_qU08NX",
        "outputId": "4b306c75-1b73-4d67-91e9-a69a620e0c52"
      },
      "execution_count": 18,
      "outputs": [
        {
          "output_type": "stream",
          "name": "stdout",
          "text": [
            "Title: 1984\n",
            "Author: George Orwell\n",
            "Year Published: 1949\n"
          ]
        }
      ]
    },
    {
      "cell_type": "code",
      "source": [
        "# 18.Create a class House with attributes address and price. Create a derived class Mansion that adds an attribute number_of_rooms.\n",
        "\n",
        "# Base class House\n",
        "class House:\n",
        "    def __init__(self, address, price):\n",
        "        self.address = address\n",
        "        self.price = price\n",
        "\n",
        "    def get_details(self):\n",
        "        return f\"Address: {self.address}\\nPrice: ${self.price}\"\n",
        "\n",
        "# Derived class Mansion\n",
        "class Mansion(House):\n",
        "    def __init__(self, address, price, number_of_rooms):\n",
        "        super().__init__(address, price)\n",
        "        self.number_of_rooms = number_of_rooms\n",
        "\n",
        "    def get_details(self):\n",
        "        base_details = super().get_details()\n",
        "        return f\"{base_details}\\nNumber of Rooms: {self.number_of_rooms}\"\n"
      ],
      "metadata": {
        "id": "uIOIGAUv08Ks"
      },
      "execution_count": 21,
      "outputs": []
    }
  ]
}